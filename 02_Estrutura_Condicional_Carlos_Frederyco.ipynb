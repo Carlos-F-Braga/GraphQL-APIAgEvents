{
  "nbformat": 4,
  "nbformat_minor": 0,
  "metadata": {
    "colab": {
      "name": "02 - Estrutura Condicional - Carlos Frederyco.ipynb",
      "provenance": [],
      "collapsed_sections": [],
      "include_colab_link": true
    },
    "kernelspec": {
      "name": "python3",
      "display_name": "Python 3"
    }
  },
  "cells": [
    {
      "cell_type": "markdown",
      "metadata": {
        "id": "view-in-github",
        "colab_type": "text"
      },
      "source": [
        "<a href=\"https://colab.research.google.com/github/Carlos-F-Braga/GraphQL-APITeste/blob/master/02_Estrutura_Condicional_Carlos_Frederyco.ipynb\" target=\"_parent\"><img src=\"https://colab.research.google.com/assets/colab-badge.svg\" alt=\"Open In Colab\"/></a>"
      ]
    },
    {
      "cell_type": "markdown",
      "metadata": {
        "id": "IWT9kBSMTj2O"
      },
      "source": [
        "![image.png](data:image/png;base64,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)\n",
        "#02 - Estrutura Condicional\n",
        "## Linguagem de Programação (Prof. Dr. Henrique Dezani)\n",
        "Curso de Tecnologia em Análise e Desenvolvimento de Sistemas da Faculdade de Tecnologia de São José do Rio Preto"
      ]
    },
    {
      "cell_type": "markdown",
      "metadata": {
        "id": "Bu_cUAtKULLJ"
      },
      "source": [
        "## 2.1. Estrutura condicional simples (if/else)"
      ]
    },
    {
      "cell_type": "markdown",
      "metadata": {
        "id": "AJD9xRDWI2tK"
      },
      "source": [
        "Vamos considerar um problema clássico de cálculo de média e a informação se o aluno foi aprovado ou reprovado."
      ]
    },
    {
      "cell_type": "code",
      "metadata": {
        "id": "foKq0c6HJD-4"
      },
      "source": [
        "media = 6.0"
      ],
      "execution_count": null,
      "outputs": []
    },
    {
      "cell_type": "markdown",
      "metadata": {
        "id": "KMZkvKpJViD_"
      },
      "source": [
        "Um  `if` é um comando de decisão que avalia uma expressão e escolhe um bloco para ser executado, de acordo com o resultado dessa avaliação. A expressão, nesse caso, seria se a média é maior ou igual a 6.0, tendo uma variável sendo comparada com o operador de maior ou igual `>=` com um valor **literal** de um inteiro. Vejamos o código a seguir:"
      ]
    },
    {
      "cell_type": "code",
      "metadata": {
        "id": "PZcToPcOFFhY",
        "outputId": "3ebb0663-46b1-4be1-fda0-30a72d641c4a",
        "colab": {
          "base_uri": "https://localhost:8080/"
        }
      },
      "source": [
        "if media >= 6.0:\n",
        "  print('aprovado')"
      ],
      "execution_count": null,
      "outputs": [
        {
          "output_type": "stream",
          "name": "stdout",
          "text": [
            "aprovado\n"
          ]
        }
      ]
    },
    {
      "cell_type": "markdown",
      "metadata": {
        "id": "8Kg_f2wTX8O4"
      },
      "source": [
        "Como pudemos ver no exemplo anterior, um dos operadores de comparação (numérico) é o `>=` (maior ou igual). Outros operadores podem ser vistos na Figura abaixo.\n",
        "\n",
        "\n",
        "![Operações de Comparação](https://firebasestorage.googleapis.com/v0/b/aulas-python-2019.appspot.com/o/operacao_comparacao.png?alt=media&token=a753cbf2-bd1a-47ec-b530-4a11edf14c37)"
      ]
    },
    {
      "cell_type": "markdown",
      "metadata": {
        "id": "rt76ozQmYYde"
      },
      "source": [
        "Comparações são um pouco inteligentes..."
      ]
    },
    {
      "cell_type": "code",
      "metadata": {
        "id": "GUngHJfqYbC5",
        "outputId": "9094c90a-0cab-4093-c240-de7d1b13b0dd",
        "colab": {
          "base_uri": "https://localhost:8080/"
        }
      },
      "source": [
        "3.0 == 3"
      ],
      "execution_count": null,
      "outputs": [
        {
          "output_type": "execute_result",
          "data": {
            "text/plain": [
              "True"
            ]
          },
          "metadata": {},
          "execution_count": 7
        }
      ]
    },
    {
      "cell_type": "markdown",
      "metadata": {
        "id": "kdwkk9DkYc0M"
      },
      "source": [
        "Mas não muito inteligente ..."
      ]
    },
    {
      "cell_type": "code",
      "metadata": {
        "id": "_iwPSiKwYedp",
        "outputId": "02ddaf1c-5a32-4616-9334-107bf9846f4f",
        "colab": {
          "base_uri": "https://localhost:8080/"
        }
      },
      "source": [
        "'3' == 3"
      ],
      "execution_count": null,
      "outputs": [
        {
          "output_type": "execute_result",
          "data": {
            "text/plain": [
              "False"
            ]
          },
          "metadata": {},
          "execution_count": 8
        }
      ]
    },
    {
      "cell_type": "markdown",
      "metadata": {
        "id": "oC31JMwaFzdZ"
      },
      "source": [
        "Uma outra característica marcante de Python é: a definição dos limites do início e fim dos blocos if e else são feitas com **indentação**. Sempre que andamos espaços para a direita, estamos definindo um novo bloco. Já quando voltamos os espaços, significa que aquele bloco terminou."
      ]
    },
    {
      "cell_type": "markdown",
      "metadata": {
        "id": "5Mpw1JO7KTSH"
      },
      "source": [
        "Assim como em outras linguagens de programação, também temos definidos os outros elementos como: `elif` (a diante na aula) e `else` . Quando a condição do `if` no for verdadeira, temos a contra medida, ou seja, a instrução executada numa ação de falsidade (`else`). Repare que o corpo dos blocos das condicionais encontra-se espaços depois do canto esquerdo."
      ]
    },
    {
      "cell_type": "code",
      "metadata": {
        "id": "RdbKMXlQF0DD",
        "outputId": "1a8398f0-db5e-4d11-ad53-d5984c295420",
        "colab": {
          "base_uri": "https://localhost:8080/"
        }
      },
      "source": [
        "if media >= 6.0:\n",
        "  print('aprovado')\n",
        "else: \n",
        "  print('reprovado')"
      ],
      "execution_count": null,
      "outputs": [
        {
          "output_type": "stream",
          "name": "stdout",
          "text": [
            "aprovado\n"
          ]
        }
      ]
    },
    {
      "cell_type": "markdown",
      "metadata": {
        "id": "EUFFMGzQmL5z"
      },
      "source": [
        "***ANSI (ESCAPE SEQUENCE)***\n",
        "\n",
        "Você já utilizou diversas vezes este padrão, por exemplo, quebra de linha (\\n), tabulação (\\t) entre outros.\n",
        "\n",
        "Agora, vamos colorir nossas impressões na tela utilizando um escape sequence?\n",
        "Para tanto, basta utilizar o comando:\n",
        "\n",
        "***`\\033[__m`*** antes do texto a ser impresso.\n",
        "\n",
        "Veja alguns exemplos com as cores que podemos utilizar."
      ]
    },
    {
      "cell_type": "code",
      "metadata": {
        "id": "37GOStQHmv7_",
        "outputId": "d185207c-49f2-4be5-c7ba-98be8efdfb4e",
        "colab": {
          "base_uri": "https://localhost:8080/"
        }
      },
      "source": [
        "print('\\033[30mTexto Branco/Preto')\n",
        "print('\\033[31mTexto Vermelho')\n",
        "print('\\033[32mTexto Verde')\n",
        "print('\\033[33mTexto Amarelo')\n",
        "print('\\033[34mTexto Azul')\n",
        "print('\\033[35mTexto Lilás')\n",
        "print('\\033[36mTexto Azul Claro')\n",
        "print('\\033[37mTexto Cinza')\n",
        "print('Texto com a cor padrão?')"
      ],
      "execution_count": null,
      "outputs": [
        {
          "output_type": "stream",
          "name": "stdout",
          "text": [
            "\u001b[30mTexto Branco/Preto\n",
            "\u001b[31mTexto Vermelho\n",
            "\u001b[32mTexto Verde\n",
            "\u001b[33mTexto Amarelo\n",
            "\u001b[34mTexto Azul\n",
            "\u001b[35mTexto Lilás\n",
            "\u001b[36mTexto Azul Claro\n",
            "\u001b[37mTexto Cinza\n",
            "Texto com a cor padrão?\n"
          ]
        }
      ]
    },
    {
      "cell_type": "code",
      "metadata": {
        "id": "XMNPyQjRpRiI"
      },
      "source": [
        "print('Texto com a cor padrão?')"
      ],
      "execution_count": null,
      "outputs": []
    },
    {
      "cell_type": "markdown",
      "metadata": {
        "id": "_bA8MBWfnbV2"
      },
      "source": [
        "Para colocarmos estilos no texto, basta adicionar a numeração antes da cor:\n",
        "\n",
        "0 - Normal (sem formatação)\n",
        "\n",
        "1 - Negrito\n",
        "\n",
        "3 - Itálico\n",
        "\n",
        "4 - Sublinhado\n",
        "\n",
        "***`print('\\033[0;34mTEXTO')`***"
      ]
    },
    {
      "cell_type": "code",
      "metadata": {
        "id": "DXEzwQ_5nPXx",
        "outputId": "3435b563-8d23-4342-bf62-fa4747bcce90",
        "colab": {
          "base_uri": "https://localhost:8080/"
        }
      },
      "source": [
        "print('\\033[0;34mTexto Azul sem formatação')\n",
        "print('\\033[1;34mTexto Azul negrito')\n",
        "print('\\033[3;34mTexto Azul itálico')\n",
        "print('\\033[4;34mTexto Azul sublinhado')"
      ],
      "execution_count": null,
      "outputs": [
        {
          "output_type": "stream",
          "name": "stdout",
          "text": [
            "\u001b[0;34mTexto Azul sem formatação\n",
            "\u001b[1;34mTexto Azul negrito\n",
            "\u001b[3;34mTexto Azul itálico\n",
            "\u001b[4;34mTexto Azul sublinhado\n"
          ]
        }
      ]
    },
    {
      "cell_type": "code",
      "metadata": {
        "id": "UxHmbSw5p5dC",
        "outputId": "7ebabed8-1436-42cd-e517-fdb4cfd75876",
        "colab": {
          "base_uri": "https://localhost:8080/"
        }
      },
      "source": [
        "print('\\033[1;34mTexto Azul negrito')"
      ],
      "execution_count": null,
      "outputs": [
        {
          "output_type": "stream",
          "name": "stdout",
          "text": [
            "\u001b[1;34mTexto Azul negrito\n"
          ]
        }
      ]
    },
    {
      "cell_type": "markdown",
      "metadata": {
        "id": "rbZT3ZcmqgLd"
      },
      "source": [
        "É importante notar que dentro do mesmo bloco de código, as edições de cores são mantidas. Quando executamos outro bloco, a formatação anterior é perdida. Quando trabalhamos com um programa .py (fora no Jupyter notebook, podemos utilizar os código `\\033[m` ao final da string para finalizar a formatação."
      ]
    },
    {
      "cell_type": "code",
      "metadata": {
        "id": "Z2PxA0oqt3FK",
        "outputId": "86974535-857a-404e-bfa7-3e0aff8fc2fe",
        "colab": {
          "base_uri": "https://localhost:8080/"
        }
      },
      "source": [
        "print('\\033[3;34mTexto Azul itálico')"
      ],
      "execution_count": null,
      "outputs": [
        {
          "output_type": "stream",
          "name": "stdout",
          "text": [
            "\u001b[3;34mTexto Azul itálico\n"
          ]
        }
      ]
    },
    {
      "cell_type": "code",
      "metadata": {
        "id": "mi-ECXNlp58U",
        "outputId": "5da56ca7-c188-45f3-95ed-301e9d38b665",
        "colab": {
          "base_uri": "https://localhost:8080/"
        }
      },
      "source": [
        "print('\\033[4;34mTexto Azul sublinhado')"
      ],
      "execution_count": null,
      "outputs": [
        {
          "output_type": "stream",
          "name": "stdout",
          "text": [
            "\u001b[4;34mTexto Azul sublinhado\n"
          ]
        }
      ]
    },
    {
      "cell_type": "markdown",
      "metadata": {
        "id": "VktIqwBQzoHr"
      },
      "source": [
        "Vamos formatar nossa saída?"
      ]
    },
    {
      "cell_type": "code",
      "metadata": {
        "id": "J_7HehL-znmu",
        "outputId": "d78ee59f-c6ba-46d7-cfd0-0f082a4df7bc",
        "colab": {
          "base_uri": "https://localhost:8080/"
        }
      },
      "source": [
        "if media >= 6.0:\n",
        "  print('\\033[34mAprovado.')\n",
        "else: \n",
        "  print('\\033[31mReprovado.')"
      ],
      "execution_count": null,
      "outputs": [
        {
          "output_type": "stream",
          "name": "stdout",
          "text": [
            "\u001b[34mAprovado.\n"
          ]
        }
      ]
    },
    {
      "cell_type": "markdown",
      "metadata": {
        "id": "zKB2PwiLyGmH"
      },
      "source": [
        "## 2.2. Estrutura condicional aninhadas (if/elif/else)\n",
        "\n",
        "O `elif` avalia uma outra expressão e é executado caso esta seja avaliada como verdadeira. No caso de nenhuma expressão de `if` ou `elif` ser verdadeira, o bloco do `else` é executado, se existir."
      ]
    },
    {
      "cell_type": "code",
      "metadata": {
        "id": "fDnd_H70Krru",
        "outputId": "9354a2a2-c726-49fc-ca60-83384518aeb7",
        "colab": {
          "base_uri": "https://localhost:8080/"
        }
      },
      "source": [
        "if media >= 6:\n",
        "  print('aprovado')\n",
        "elif media >= 4:\n",
        "  print('exame de segunda época')\n",
        "else:\n",
        "  print('reprovado')"
      ],
      "execution_count": null,
      "outputs": [
        {
          "output_type": "stream",
          "name": "stdout",
          "text": [
            "aprovado\n"
          ]
        }
      ]
    },
    {
      "cell_type": "markdown",
      "metadata": {
        "id": "37Ayr3qct-yN"
      },
      "source": [
        "Vamos refazer o código anterior, colocando mais estilo em nossa resposta."
      ]
    },
    {
      "cell_type": "code",
      "metadata": {
        "id": "KRe-e-3St-QJ",
        "outputId": "015c8127-3da5-4ba0-e300-254773325f4b",
        "colab": {
          "base_uri": "https://localhost:8080/"
        }
      },
      "source": [
        "if media >= 6:\n",
        "  print('\\033[34mAprovado.')\n",
        "elif media >= 4:\n",
        "  print('\\033[33mExame de segunda época.')\n",
        "else:\n",
        "  print('\\033[31mReprovado.')"
      ],
      "execution_count": null,
      "outputs": [
        {
          "output_type": "stream",
          "name": "stdout",
          "text": [
            "\u001b[34mAprovado.\n"
          ]
        }
      ]
    },
    {
      "cell_type": "markdown",
      "metadata": {
        "id": "O8Q_drrNLU6c"
      },
      "source": [
        "##2.3. Operadores lógicos"
      ]
    },
    {
      "cell_type": "markdown",
      "metadata": {
        "id": "W-CiG3wPLxFH"
      },
      "source": [
        "O tipo de dados mais simples é o chamado booleano (ou lógico). Esse tipo de dados, um dado booleano só pode assumir dois valores (VERDADEIRO ou FALSO). Em Python, esse tipo de dado é chamado `bool` e os valores possíves são `True` e `False`."
      ]
    },
    {
      "cell_type": "code",
      "metadata": {
        "id": "FJtCpl2DLeuL",
        "outputId": "eba6ff1c-79e2-4790-b5a7-19117f669f08",
        "colab": {
          "base_uri": "https://localhost:8080/"
        }
      },
      "source": [
        "valor_verdadeiro = True\n",
        "type(valor_verdadeiro)"
      ],
      "execution_count": null,
      "outputs": [
        {
          "output_type": "execute_result",
          "data": {
            "text/plain": [
              "bool"
            ]
          },
          "metadata": {},
          "execution_count": 2
        }
      ]
    },
    {
      "cell_type": "code",
      "metadata": {
        "id": "yuFsZpnvK9i7",
        "outputId": "c7ee9b13-da63-4490-9d62-adb34479efde",
        "colab": {
          "base_uri": "https://localhost:8080/"
        }
      },
      "source": [
        "print(valor_verdadeiro)"
      ],
      "execution_count": null,
      "outputs": [
        {
          "output_type": "stream",
          "name": "stdout",
          "text": [
            "True\n"
          ]
        }
      ]
    },
    {
      "cell_type": "markdown",
      "metadata": {
        "id": "E-huCTpnMWy6"
      },
      "source": [
        "Em Python, utilizamos a palavra `not` para negar o valor booleano. Veja o exemplo:"
      ]
    },
    {
      "cell_type": "code",
      "metadata": {
        "id": "KZ0HgHaMMWBg",
        "outputId": "7e121ed8-2518-4720-df9a-fc4444ad5d25",
        "colab": {
          "base_uri": "https://localhost:8080/"
        }
      },
      "source": [
        "print(not valor_verdadeiro)"
      ],
      "execution_count": null,
      "outputs": [
        {
          "output_type": "stream",
          "name": "stdout",
          "text": [
            "False\n"
          ]
        }
      ]
    },
    {
      "cell_type": "markdown",
      "metadata": {
        "id": "ebnvymC7MygP"
      },
      "source": [
        "Quando desejamos comparar diversas expressões dentro de um comando de decisão, podemos utilizar também as palavras chaves `and` e `or`. Vejamos um exemplo para formar a tabela verdade:"
      ]
    },
    {
      "cell_type": "code",
      "metadata": {
        "id": "XUFkST89Y_8F",
        "outputId": "f9547203-7594-48af-e136-18f5d9501100",
        "colab": {
          "base_uri": "https://localhost:8080/"
        }
      },
      "source": [
        "print('True and True:', True and True)\n",
        "print('True and False:', True and False)\n",
        "print('False and False:', False and False)\n",
        "print()\n",
        "print('True or True:', True or True)\n",
        "print('True or False:', True or False)\n",
        "print('False or False:', False or False)\n",
        "print()\n",
        "print('not True:', not True)\n",
        "print('not False:', not False)"
      ],
      "execution_count": null,
      "outputs": [
        {
          "output_type": "stream",
          "name": "stdout",
          "text": [
            "True and True: True\n",
            "True and False: False\n",
            "False and False: False\n",
            "\n",
            "True or True: True\n",
            "True or False: True\n",
            "False or False: False\n",
            "\n",
            "not True: False\n",
            "not False: True\n"
          ]
        }
      ]
    },
    {
      "cell_type": "code",
      "metadata": {
        "id": "KdMAvbuHNUMb"
      },
      "source": [
        "valor1 = True\n",
        "valor2 = False"
      ],
      "execution_count": null,
      "outputs": []
    },
    {
      "cell_type": "code",
      "metadata": {
        "id": "zO6Q3RciMHpM",
        "outputId": "73a30f51-3d18-4182-8067-2273f20390da",
        "colab": {
          "base_uri": "https://localhost:8080/"
        }
      },
      "source": [
        "if valor1 and valor2:\n",
        "  print('Verdade') # se ambos forem verdadeiros\n",
        "else:\n",
        "  print('Falso') # se um dele já for falso."
      ],
      "execution_count": null,
      "outputs": [
        {
          "output_type": "stream",
          "name": "stdout",
          "text": [
            "Falso\n"
          ]
        }
      ]
    },
    {
      "cell_type": "code",
      "metadata": {
        "id": "50S8KRdhNFYI",
        "outputId": "8b82d401-e523-4e17-c7f7-c5a2e856e0f4",
        "colab": {
          "base_uri": "https://localhost:8080/"
        }
      },
      "source": [
        "if valor1 or valor2:\n",
        "  print('Verdade') # se um deles já for verdadeiro.\n",
        "else:\n",
        "  print('Falso') # se ambos forem falsos."
      ],
      "execution_count": null,
      "outputs": [
        {
          "output_type": "stream",
          "name": "stdout",
          "text": [
            "Verdade\n"
          ]
        }
      ]
    },
    {
      "cell_type": "markdown",
      "metadata": {
        "id": "DwRu2Oi9OEQV"
      },
      "source": [
        "Dando continuidade ao nosso exemplo de cálculo de média, vamos supor que mais uma variável seja adicionada ao nosso sistema: `quantidade de faltas`."
      ]
    },
    {
      "cell_type": "code",
      "metadata": {
        "id": "uqI6HR7FN6N7"
      },
      "source": [
        "quantidade_faltas = 20"
      ],
      "execution_count": null,
      "outputs": []
    },
    {
      "cell_type": "code",
      "metadata": {
        "id": "H9ACY2rLOTNc",
        "outputId": "c4ae3794-2266-4a14-cce3-56c24ab2885b",
        "colab": {
          "base_uri": "https://localhost:8080/"
        }
      },
      "source": [
        "if media >= 6.0 and quantidade_faltas <= 20:\n",
        "  print('aprovado')\n",
        "elif media >= 4.0 and quantidade_faltas <= 20:\n",
        "  print('exame de segunda época')\n",
        "else:\n",
        "  print('reprovado')"
      ],
      "execution_count": null,
      "outputs": [
        {
          "output_type": "stream",
          "name": "stdout",
          "text": [
            "aprovado\n"
          ]
        }
      ]
    },
    {
      "cell_type": "code",
      "metadata": {
        "id": "BAvUQVOlOjA4",
        "outputId": "5e8a4966-0e50-40a7-a616-cb6e43d6f2ba",
        "colab": {
          "base_uri": "https://localhost:8080/"
        }
      },
      "source": [
        "# reestruturando o código utilizando níveis de identação:\n",
        "if quantidade_faltas <= 20:\n",
        "  if media >= 6.0:\n",
        "    print('aprovado')\n",
        "  elif media >= 4.0:\n",
        "    print('exame de segunda época')\n",
        "else:\n",
        "  print('reprovado')"
      ],
      "execution_count": null,
      "outputs": [
        {
          "output_type": "stream",
          "name": "stdout",
          "text": [
            "aprovado\n"
          ]
        }
      ]
    },
    {
      "cell_type": "markdown",
      "metadata": {
        "id": "kKpFEFqYI2QA"
      },
      "source": [
        "##2.4. Switch/Case"
      ]
    },
    {
      "cell_type": "code",
      "metadata": {
        "id": "0VmIkG5uJAUJ",
        "colab": {
          "base_uri": "https://localhost:8080/"
        },
        "outputId": "ac5f5c23-0f1b-4b77-b2ad-6860e9a83870"
      },
      "source": [
        "print('\\033[2;31mNão tem! Até a versão 3.9.. :/')"
      ],
      "execution_count": null,
      "outputs": [
        {
          "output_type": "stream",
          "name": "stdout",
          "text": [
            "\u001b[2;31mNão tem! Até a versão 3.9.. :/\n"
          ]
        }
      ]
    },
    {
      "cell_type": "markdown",
      "metadata": {
        "id": "tFVnfoiTPUIV"
      },
      "source": [
        "##2.5. Exercício Resolvido: Cálculo do IMC\n",
        "\n",
        "Vamos desenvolver um código que seja capaz de, dada a altura e peso de uma pessoa, calcular o seu IMC (Índice de Massa Corporal) e indicar sua situação. O cálculo do IMC é feito pela divisão do peso pela altura ao quadrado. As possíveis situações são:\n",
        "\n",
        " - Abaixo de 17.      Muito abaixo do peso\n",
        " - Entre 17 e 18,49\t Abaixo do peso\n",
        " - Entre 18,5 e 24,99 Peso normal\n",
        " - Entre 25 e 29,99\t Acima do peso\n",
        " - Entre 30 e 34,99\t Obesidade I\n",
        " - Entre 35 e 39,99\t Obesidade II (severa)\n",
        " - Acima de 40\t       Obesidade III (mórbida)"
      ]
    },
    {
      "cell_type": "code",
      "metadata": {
        "id": "kLu80PYxVuL8",
        "outputId": "952b50cd-6fa4-497d-a8a1-19ea404e70ed",
        "colab": {
          "base_uri": "https://localhost:8080/"
        }
      },
      "source": [
        "peso = float(input(\"Digite o seu peso: \"))\n",
        "altura = float(input(\"Digite a sua altura: \"))\n",
        "imc = peso / (altura * altura) * 100\n",
        "print(f\"Peso: {peso} Altura: {altura} Imc: {imc}\")"
      ],
      "execution_count": null,
      "outputs": [
        {
          "output_type": "stream",
          "name": "stdout",
          "text": [
            "Digite o seu peso: -1\n",
            "Digite a sua altura: -2\n",
            "Peso: -1.0 Altura: -2.0 Imc: -25.0\n"
          ]
        }
      ]
    },
    {
      "cell_type": "code",
      "source": [
        "if not imc < 0 and not imc > 60:\n",
        "  if imc <= 17:\n",
        "    print(f\"Voce está muito abaixo do peso com Imc: {imc} de imc\")\n",
        "  elif imc <= 18.9:\n",
        "    print(f\"Voce está abaixo do peso com Imc: {imc} de imc\")\n",
        "  elif imc <= 24.99:\n",
        "    print(f\"Voce está com peso normal com Imc: {imc} de imc\")\n",
        "  elif imc <= 29.99:\n",
        "    print(f\"Voce está acima do do peso com Imc: {imc} de imc\")\n",
        "  elif imc <= 34.99:\n",
        "    print(f\"Voce está com obesidade 1 com Imc: {imc} de imc\")\n",
        "  elif imc <= 39.99:\n",
        "    print(f\"Voce está com obesidade 2 com Imc: {imc} de imc\")\n",
        "  else:\n",
        "    print(f\"Voce está com obesidade 3 com Imc: {imc} de imc\")\n",
        "else:\n",
        "  print(\"Digite dados corretos!\")"
      ],
      "metadata": {
        "colab": {
          "base_uri": "https://localhost:8080/"
        },
        "id": "_9WXLmgEl6aX",
        "outputId": "30499faf-05b6-4b4e-c425-542b2a2c2451"
      },
      "execution_count": null,
      "outputs": [
        {
          "output_type": "stream",
          "name": "stdout",
          "text": [
            "Digite dados corretos!\n"
          ]
        }
      ]
    },
    {
      "cell_type": "markdown",
      "metadata": {
        "id": "fVzxciCZea46"
      },
      "source": [
        "##2.6. Exercícios"
      ]
    },
    {
      "cell_type": "markdown",
      "metadata": {
        "id": "lK34zdC6fLJE"
      },
      "source": [
        "### 2.6.1. Exercício 1: Faça um programa em que ele sorteie um número entre 0 e 5. O usuário deverá então adivinhar este número e o programa deverá escrever na tela se ele acertou ou não."
      ]
    },
    {
      "cell_type": "code",
      "metadata": {
        "id": "VDSXjbzkbISI",
        "colab": {
          "base_uri": "https://localhost:8080/"
        },
        "outputId": "1371357f-78e5-43b6-bd1e-98d8ed3dd22b"
      },
      "source": [
        "import random\n",
        "numero_sorteado = random.randint(0, 5)\n",
        "guess = int(input(\"Digite o número sorteado: \"))\n",
        "\n",
        "if not guess < 0 and not guess > 5:\n",
        "  if guess == numero_sorteado:\n",
        "    print(f\"Voce acertou com seu número: {guess} e sendo o número sorteado: {numero_sorteado} \")\n",
        "  else:\n",
        "    print(f\"Voce errou com seu número: {guess} e sendo o número sorteado: {numero_sorteado} \")\n",
        "else:\n",
        "  print(\"Digite dados corretos!\")\n",
        "# Escreva seu código a partir daqui."
      ],
      "execution_count": null,
      "outputs": [
        {
          "output_type": "stream",
          "name": "stdout",
          "text": [
            "Digite o número sorteado: 3\n",
            "Voce acertou com seu número: 3 e sendo o número sorteado: 3 \n"
          ]
        }
      ]
    },
    {
      "cell_type": "markdown",
      "metadata": {
        "id": "5xASByOUgIuR"
      },
      "source": [
        "### 2.6.2. Exercício 2: Crie um programa que leia um número inteiro e mostre na tela se ele é par ou ímpar."
      ]
    },
    {
      "cell_type": "code",
      "metadata": {
        "id": "Veyhur6_gNYr",
        "colab": {
          "base_uri": "https://localhost:8080/"
        },
        "outputId": "877b5c33-5174-485b-a198-410285610cf0"
      },
      "source": [
        "n = int(input(\"Digite o número: \"))\n",
        "if n % 2 == 0:\n",
        "    print(f\"Voce Digitou o número Par: {n} \")\n",
        "else:\n",
        "    print(f\"Voce digitou o número Impar: {n} \")\n"
      ],
      "execution_count": null,
      "outputs": [
        {
          "output_type": "stream",
          "name": "stdout",
          "text": [
            "Digite o número: 2\n",
            "Voce Digitou o número Par: 2 \n"
          ]
        }
      ]
    },
    {
      "cell_type": "markdown",
      "metadata": {
        "id": "vosNGm5BfaQD"
      },
      "source": [
        "### 2.6.3. Exercício 3: Escreva um programa que leia a velocidade de um carro. Se esta velocidade for maior que 80Km/h o programa deverá escrever uma mensagem na tela avisando que o usuário levou uma multa e o valor a ser pago. Considere R$ 7 reais por cada Km acima do limite."
      ]
    },
    {
      "cell_type": "code",
      "metadata": {
        "id": "CQlkVZWxf8v4",
        "colab": {
          "base_uri": "https://localhost:8080/"
        },
        "outputId": "9eab09af-1fd7-49b0-928e-2bd773f0d8e4"
      },
      "source": [
        "vel = float(input(\"Digite velocidade do carro em Km/h: \"))\n",
        "\n",
        "if not vel <= 0 and not vel > 300:\n",
        "  if vel > 80:\n",
        "    multa = (vel - 80) * 7\n",
        "    print(f\"Voce está acima do Limite de Velocidade com: {vel}Km/h e levou uma multa de {multa}R$ \")\n",
        "  else:\n",
        "    print(f\"Voce está abaixo do Limite de Velocidade com: {vel}Km/h e tudo está certo \")\n",
        "else:\n",
        "  print(\"Digite dados corretos!\")\n"
      ],
      "execution_count": null,
      "outputs": [
        {
          "output_type": "stream",
          "name": "stdout",
          "text": [
            "Digite velocidade do carro em Km/h: 250\n",
            "Voce está acima do Limite de Velocidade com: 250.0Km/h e levou uma multa de 1190.0R$ \n"
          ]
        }
      ]
    },
    {
      "cell_type": "markdown",
      "metadata": {
        "id": "6uWVM2ZEgODD"
      },
      "source": [
        "### 2.6.4. Exercício 4: Crie um programa que calcule o preço a ser pago por um serviço computacional. O usuário deverá informar a quantidade de horas utilizada. Será cobrado `R$ 0,50` por hora para consumo de até 10 horas, `R$ 0,45` por hora para consumo entre 10 e 20 horas e `R$ 0,40` por hora para consumo maior de 20 horas."
      ]
    },
    {
      "cell_type": "code",
      "metadata": {
        "id": "bhFzfmzBg-tw",
        "colab": {
          "base_uri": "https://localhost:8080/"
        },
        "outputId": "413d6908-ee9a-4cee-b0dc-b2c281c69b4a"
      },
      "source": [
        "consumo = float(input(\"Digite a quantidade de horas utilizada: \"))\n",
        "\n",
        "if not consumo <= 0 and not consumo > 60:\n",
        "  if consumo <= 10:\n",
        "    preco = consumo * 0.5\n",
        "    print(f\"Voce está sendo cobrado {preco}R$ por ter consumido {consumo} horas estando 0.5R$ a hora de consumo\")\n",
        "  elif consumo <= 20:\n",
        "    preco = consumo * 0.45\n",
        "    print(f\"Voce está sendo cobrado {preco}R$ por ter consumido {consumo} horas estando 0.45R$ a hora de consumo\")\n",
        "  else:\n",
        "    preco = consumo * 0.4\n",
        "    print(f\"Voce está sendo cobrado {preco}R$ por ter consumido {consumo} horas estando 0.4R$ a hora de consumo\")\n",
        "else:\n",
        "  print(\"Digite dados corretos!\")"
      ],
      "execution_count": null,
      "outputs": [
        {
          "output_type": "stream",
          "name": "stdout",
          "text": [
            "Digite a quantidade de horas utilizada: 28\n",
            "Voce está sendo cobrado 11.200000000000001R$ por ter consumido 28.0 horas estando 0.4R$ a hora de consumo\n"
          ]
        }
      ]
    },
    {
      "cell_type": "markdown",
      "metadata": {
        "id": "KqOT49B0jl7q"
      },
      "source": [
        "### 2.6.5. Exercício 5: Faça um programa que leia 3 números e mostre qual é o maior e qual é o menor (não utilize as funções built-in max() e min())"
      ]
    },
    {
      "cell_type": "code",
      "metadata": {
        "id": "fy9rvoZ2jb8e",
        "colab": {
          "base_uri": "https://localhost:8080/"
        },
        "outputId": "dbbbbab7-f67a-43ea-a6e8-e85291141da1"
      },
      "source": [
        "n1 = float(input(\"Digite o primeiro número: \"))\n",
        "n2 = float(input(\"Digite o segundo número: \"))\n",
        "n3 = float(input(\"Digite o terceiro número: \"))\n",
        "print(f\"Número 1: {n1} Numero 2: {n2} Número 3: {n3}\")\n",
        "\n",
        "if n1 == n2 and n1 < n3:\n",
        " print(f\"n1: {n1} é igual a n2: {n2} que são menores que n3: {n3}\") \n",
        "elif n2 == n3 and n2 < n1:\n",
        "  print(f\"n2: {n2} é igual a n3: {n3} que são menores que n1: {n1}\") \n",
        "elif n3 == n1 and n3 < n2:\n",
        "  print(f\"n3: {n3} é igual a n1: {n1} que são menores que n2: {n2}\")\n",
        "\n",
        "if n1 < n2 and n1 < n3:\n",
        "  if n2 < n3:\n",
        "    print(f\"n1: {n1} é menor que n3: {n3} que é maior que n2: {n2}\")\n",
        "    print(f\"O maior número é n3 {n3} e o menor número é n1 {n1}\")\n",
        "  elif n2 == n3:\n",
        "    print(f\"n1: {n1} é menor que n3: {n3} que é igual a n2: {n2}\")\n",
        "  else:\n",
        "    print(f\"n1: {n1} é menor que n3: {n3} que é menor que n2: {n2}\")\n",
        "    print(f\"O maior número é n2 {n2} e o menor número é n1 {n1}\")\n",
        "else:\n",
        "  if n2 < n1 and n2 < n3:\n",
        "    if n1 < n3:\n",
        "      print(f\"n2: {n2} é menor que n1: {n1} que é menor que n3: {n3}\")\n",
        "      print(f\"O maior número é n3 {n3} e o menor número é n2 {n2}\")\n",
        "    elif n1 == n3:\n",
        "      print(f\"n2: {n2} é menor que n1: {n1} que é igual a n3: {n3}\")\n",
        "    else:\n",
        "      print(f\"n2: {n2} é menor que n1: {n1} que é maior que n3: {n3}\")\n",
        "      print(f\"O maior número é n1 {n1} e o menor número é n2 {n2}\")\n",
        "  else:\n",
        "   if n3 < n1 and n3 < n2:\n",
        "    if n1 < n2:\n",
        "      print(f\"n3: {n3} é menor que n1: {n1} que é menor que n2: {n2}\")\n",
        "      print(f\"O maior número é n2 {n2} e o menor número é n3 {n3}\")\n",
        "    elif n1 == n2:\n",
        "      print(f\"n3: {n3} é menor que n1: {n1} que é igual a n2: {n2}\")\n",
        "    else:\n",
        "      print(f\"n3: {n3} é menor que n1: {n1} que é maior que n2: {n2}\")\n",
        "      print(f\"O maior número é n1 {n1} e o menor número é n3 {n3}\")\n",
        "   elif n1 == n2 == n3:\n",
        "     print(f\"n3: {n3} é igual a n1: {n1} que é igual a n2: {n2}\")\n",
        "\n",
        "\n",
        "\n",
        "\n",
        "print (\"Overcoding : YEP\")"
      ],
      "execution_count": null,
      "outputs": [
        {
          "output_type": "stream",
          "name": "stdout",
          "text": [
            "Digite o primeiro número: 1\n",
            "Digite o segundo número: 4\n",
            "Digite o terceiro número: 4\n",
            "Número 1: 1.0 Numero 2: 4.0 Número 3: 4.0\n",
            "n1: 1.0 é menor que n3: 4.0 que é igual a n2: 4.0\n",
            "Overcoding : YEP\n"
          ]
        }
      ]
    },
    {
      "cell_type": "markdown",
      "metadata": {
        "id": "ScGt7O41juFk"
      },
      "source": [
        "### 2.6.6. Exercício 6: Escreva um programa que leia o salário de um funcionário e calcule o seu aumento. Caso o salário atual seja superior a `R$ 1.000,00` calcule um aumento de 10%, caso contrário, calcule um aumento de 15%."
      ]
    },
    {
      "cell_type": "code",
      "metadata": {
        "id": "An_8rOrnkAYA",
        "colab": {
          "base_uri": "https://localhost:8080/"
        },
        "outputId": "f124bda4-6129-42d4-ac4b-4b133de3ad5c"
      },
      "source": [
        "salario = float(input(\"Digite o salario: \"))\n",
        "\n",
        "if not salario <= 0 and not salario > 100000:\n",
        "  if salario > 1000:\n",
        "    salarioaum = salario * 1.1\n",
        "    print(f\"Seu salário de {salario}R$ está recebendo um aumento de 10% passando para {salarioaum}R$ por sua competência\")\n",
        "  else:\n",
        "    salarioaum = salario * 1.15\n",
        "    print(f\"Seu salário de {salario}R$ está recebendo um aumento de 15% passando para {salarioaum}R$ por sua competência\")\n",
        "else:\n",
        "  print(\"Digite dados corretos!\")"
      ],
      "execution_count": null,
      "outputs": [
        {
          "output_type": "stream",
          "name": "stdout",
          "text": [
            "Digite o salario: 200\n",
            "Seu salário de 200.0R$ está recebendo um aumento de 15% passando para 229.99999999999997R$ por sua competência\n"
          ]
        }
      ]
    },
    {
      "cell_type": "markdown",
      "metadata": {
        "id": "_Q6VwWG3kJBe"
      },
      "source": [
        "### 2.6.7. Exercício 7: ***Condição de existência de um triângulo***: Para construir um triângulo não podemos utilizar qualquer medida, tem que seguir a condição de existência, isto é, para construir um triângulo é necessário que a medida de qualquer um dos lados seja menor que a soma das medidas dos outros dois e maior que o valor absoluto da diferença entre essas medidas [[Brasil Escola, 2019](https://brasilescola.uol.com.br/matematica/triangulo.htm)].\n",
        "\n",
        "| b - c | < a < b + c\n",
        "\n",
        "| a - c | < b < a + c\n",
        "\n",
        "| a - b | < c < a + b\n",
        "\n",
        "Com base nesta condição, crie um programa que leia o comprimento de três retas e escreva na tela se estas retas podem ou não formar um triângulo."
      ]
    },
    {
      "cell_type": "code",
      "metadata": {
        "id": "0XVtTOcCk_jf",
        "colab": {
          "base_uri": "https://localhost:8080/"
        },
        "outputId": "f6208f3a-2fa7-45ed-f3bd-b7c5a7c34c78"
      },
      "source": [
        "n1 = float(input(\"Digite o primeiro lado: \"))\n",
        "n2 = float(input(\"Digite o segundo lado: \"))\n",
        "n3 = float(input(\"Digite o terceiro lado: \"))\n",
        "print(f\"Lado 1: {n1} Lado 2: {n2} Lado 3: {n3}\")\n",
        "\n",
        "if not n1 <= 0 or not n2 <= 0 or not n3 <= 0:\n",
        "  if n1 < n2 + n3 and n1 > abs(n2 - n3) and n2 < n3 + n1 and n2 > abs(n1 - n3) and n3 < n1 + n2 and n3 > abs(n1 - n2):\n",
        "    print(\"É possível criar um triângulo com esses lados\") \n",
        "  else:\n",
        "   print(\"Não é possível criar um triângulo\")\n",
        "else:\n",
        "  print(\"Digite dados corretos!\")"
      ],
      "execution_count": null,
      "outputs": [
        {
          "output_type": "stream",
          "name": "stdout",
          "text": [
            "Digite o primeiro lado: 4\n",
            "Digite o segundo lado: 5\n",
            "Digite o terceiro lado: 6\n",
            "Lado 1: 4.0 Lado 2: 5.0 Lado 3: 6.0\n",
            "É possível criar um triângulo com esses lados\n"
          ]
        }
      ]
    },
    {
      "cell_type": "markdown",
      "metadata": {
        "id": "V39J6eclA5le"
      },
      "source": [
        "### 2.6.8. Exercício 8: Faça um programa para aprovar o empréstimo bancário para a compra de uma casa. O usuário deverá informar o valor da casa, a quantidade de parcelas que deseja pagar e seu salário. O empréstimo deverá ser negado caso o valor da parcela exceda 30% do salário."
      ]
    },
    {
      "cell_type": "code",
      "metadata": {
        "id": "RfnFPzygBYfr",
        "colab": {
          "base_uri": "https://localhost:8080/"
        },
        "outputId": "8349ca41-4db7-42df-cf6b-3b9c78740825"
      },
      "source": [
        "valor = float(input(\"Digite o valor da casa: \"))\n",
        "qtd_parc = int(input(\"Digite a quantidade de parcelas: \"))\n",
        "salario = float(input(\"Digite o seu salário: \"))\n",
        "\n",
        "if not valor <= 0 or not qtd_parc <= 0 or not salario <= 0:\n",
        "  val_parc = valor / qtd_parc\n",
        "  if val_parc <= salario * 0.3:\n",
        "   print(f\"Empréstimo aprovado para a compra de uma casa de valor {valor}R$ em {qtd_parc} parcelas de {val_parc}R$ tendo o salário de {salario}R$\") \n",
        "  else:\n",
        "   print(f\"Empréstimo negado para a compra de uma casa de valor {valor}R$ em {qtd_parc} parcelas de {val_parc}R$ tendo o salário de {salario}R$\")  \n",
        "\n",
        "else:\n",
        "  print(\"Digite dados corretos!\")"
      ],
      "execution_count": null,
      "outputs": [
        {
          "output_type": "stream",
          "name": "stdout",
          "text": [
            "Digite o valor da casa: 1000\n",
            "Digite a quantidade de parcelas: 50\n",
            "Digite o seu salário: 4000\n",
            "Empréstimo aprovado para a compra de uma casa de valor 1000.0R$ em 50 parcelas de 20.0R$ tendo o salário de 4000.0R$\n"
          ]
        }
      ]
    },
    {
      "cell_type": "markdown",
      "metadata": {
        "id": "sUac_6Z5H4yI"
      },
      "source": [
        "### 2.6.9. Exercício 9: Escreva um programa que leia dois números inteiros e compare-os, mostrando na tela uma das mensagens:\n",
        "\n",
        " - O `primeiro valor` é maior.\n",
        " - O `segundo valor` é maior.\n",
        " - Os valores são iguais."
      ]
    },
    {
      "cell_type": "code",
      "metadata": {
        "id": "xoxtLirSJ2Rd",
        "colab": {
          "base_uri": "https://localhost:8080/"
        },
        "outputId": "bc2de399-e856-4436-871e-0916132328ac"
      },
      "source": [
        "n1 = float(input(\"Digite o primeiro número: \"))\n",
        "n2 = float(input(\"Digite o segundo número: \"))\n",
        "print(f\"Número 1: {n1} Numero 2: {n2}\")\n",
        "\n",
        "if n1 == n2:\n",
        " print(f\"n1: {n1} é igual a n2: {n2}\") \n",
        " print(\"Os valores são iguais\") \n",
        "elif n1 < n2:\n",
        "  print(f\"n1: {n1} é menor que n2: {n2}\") \n",
        "  print(\"O segundo valor é maior\")\n",
        "elif n2 < n1:\n",
        "  print(f\"n2: {n2} é menor que n1: {n1}\")\n",
        "  print(\"Os primeiro valor é maior\")"
      ],
      "execution_count": null,
      "outputs": [
        {
          "output_type": "stream",
          "name": "stdout",
          "text": [
            "Digite o primeiro número: 7\n",
            "Digite o segundo número: 4\n",
            "Número 1: 7.0 Numero 2: 4.0\n",
            "n2: 4.0 é menor que n1: 7.0\n",
            "Os primeiro valor é maior\n"
          ]
        }
      ]
    },
    {
      "cell_type": "markdown",
      "metadata": {
        "id": "axsnPeLxJ4j-"
      },
      "source": [
        "### 2.6.10. Exercício 10: Faça um program que leia o ano de nascimento de uma pessoa e informe se ele ainda vai se alistar ao serviço militar ou se ele está no período de se alistar ou se ele perdeu o prazo para se alistar. Além disso, mostre também a quantidade de anos que falta para se alistar ou que passou do prazo."
      ]
    },
    {
      "cell_type": "code",
      "metadata": {
        "id": "CoCccdIIKXOp",
        "colab": {
          "base_uri": "https://localhost:8080/"
        },
        "outputId": "9c4e6951-6f0d-4590-a4a0-0bcdb05815af"
      },
      "source": [
        "nasc = int(input(\"Digite o seu ano de nascimento: \"))\n",
        "\n",
        "if not nasc <= 1960 or not nasc >= 2022:\n",
        "  if nasc == 2004:\n",
        "   print(f\"Voce está no seu período de se alistar!\")\n",
        "  elif nasc > 2004:\n",
        "    dif = nasc - 2004;\n",
        "    print(f\"Voce ainda está para se alistar em {dif} anos\")\n",
        "  else:\n",
        "    dif = 2004 - nasc\n",
        "    print(f\"Voce passou do prazo de se alistar por {dif} anos\")  \n",
        "\n",
        "else:\n",
        "  print(\"Digite dados corretos!\")"
      ],
      "execution_count": null,
      "outputs": [
        {
          "output_type": "stream",
          "name": "stdout",
          "text": [
            "Digite o seu ano de nascimento: 2000\n",
            "Voce passou do prazo de se alistar por 4 anos\n"
          ]
        }
      ]
    },
    {
      "cell_type": "markdown",
      "metadata": {
        "id": "t4RImt4iKX8L"
      },
      "source": [
        "### 2.6.11. Exercício 11: Faça um programa que leia o comprimento de três lados de um triângulo (válido), indicando que tipo de triângulo será formado:\n",
        "\n",
        "- Equilátero: todos os lados são iguais; ou\n",
        "- Isósceles: dois lados são iguais; ou \n",
        "- Escaleno: todos os lados são diferentes."
      ]
    },
    {
      "cell_type": "code",
      "metadata": {
        "id": "NnMNGrqwLLqk",
        "colab": {
          "base_uri": "https://localhost:8080/"
        },
        "outputId": "69c8c1ef-bf6c-4bfb-eaec-b3a037c21fab"
      },
      "source": [
        "n1 = float(input(\"Digite o primeiro lado: \"))\n",
        "n2 = float(input(\"Digite o segundo lado: \"))\n",
        "n3 = float(input(\"Digite o terceiro lado: \"))\n",
        "print(f\"Lado 1: {n1} Lado 2: {n2} Lado 3: {n3}\")\n",
        "\n",
        "if not n1 <= 0 or not n2 <= 0 or not n3 <= 0:\n",
        "  if n1 < n2 + n3 and n1 > abs(n2 - n3) and n2 < n3 + n1 and n2 > abs(n1 - n3) and n3 < n1 + n2 and n3 > abs(n1 - n2):\n",
        "    print(\"É possível criar um triângulo com esses lados\") \n",
        "    if n1 == n2 == n3:\n",
        "      print(\"Este triângulo será equilátero\") \n",
        "    elif not n1 == n2 and not n2 == n3 and not n3 == n1:\n",
        "      print(\"Este triângulo será escaleno\") \n",
        "    else:\n",
        "      print(\"Este triângulo será isósceles\") \n",
        "  \n",
        "  else:\n",
        "   print(\"Não é possível criar um triângulo\")\n",
        "else:\n",
        "  print(\"Digite dados corretos!\")"
      ],
      "execution_count": null,
      "outputs": [
        {
          "output_type": "stream",
          "name": "stdout",
          "text": [
            "Digite o primeiro lado: 4\n",
            "Digite o segundo lado: 5\n",
            "Digite o terceiro lado: 5\n",
            "Lado 1: 4.0 Lado 2: 5.0 Lado 3: 5.0\n",
            "É possível criar um triângulo com esses lados\n",
            "Este triângulo será isósceles\n"
          ]
        }
      ]
    },
    {
      "cell_type": "markdown",
      "metadata": {
        "id": "Oq5FW1AILMI6"
      },
      "source": [
        "### 2.6.12. Exercício 12: Crie um programa que calcule o valor a ser pago por um produto considerando o seu `preço normal` e a `condição de pagamento`:\n",
        "\n",
        " - à vista no dinheiro ou cheque: 10% de desconto;\n",
        " - à vista no cartão: 5% de desconto;\n",
        " - em até 2x no cartão: preço normal;\n",
        " - em 3x no cartão: 20% de juros."
      ]
    },
    {
      "cell_type": "code",
      "metadata": {
        "id": "JLYm1RbZL-Jw",
        "colab": {
          "base_uri": "https://localhost:8080/"
        },
        "outputId": "8172ceb6-d34c-4474-a224-b4bcff7f8f05"
      },
      "source": [
        "preco = float(input(\"Digite o Preço: \"))\n",
        "qtd = int(input(\"Digite a qtd de parcelas de 1 a 3: (1 = a vista e 2 a 3 apenas no cartão)\"))\n",
        "cond = input(\"Digite a condição de pagamento: (Ca = cartão, Ch = cheque, d = dinheiro)\")\n",
        "\n",
        "if not preco <= 0 and not preco > 1000000 and qtd >= 1 and qtd <= 3:\n",
        "  if  cond == \"Ca\" or cond == \"ca\" or cond == \"Ch\" or cond == \"ch\" or cond == \"D\" or cond == \"d\":\n",
        "   if cond == \"ch\" or cond == \"Ch\" or cond == \"D\" or cond == \"d\" and qtd == 1:\n",
        "     precon = preco * 0.9\n",
        "     print(f\"O preço {preco}R$ passará para {precon}R$ por voce ter comprado á vista com dinheiro ou cheque e ter recebido 10% de desconto\")\n",
        "   elif cond == \"Ca\" or cond == \"ca\" and qtd == 1:\n",
        "    precon = preco * 0.95\n",
        "    print(f\"O preço {preco}R$ passará para {precon}R$ por voce ter comprado á vista com cartão e ter recebido 5% de desconto\")\n",
        "   elif cond == \"Ca\" or cond == \"ca\" and qtd == 2:\n",
        "    precon = preco\n",
        "    print(f\"O preço {preco}R$ passará para {precon}R$ por voce ter comprado em 2x com cartão e não receberá desconto\")\n",
        "   elif cond == \"Ca\" or cond == \"ca\" and qtd == 3:\n",
        "    precon = preco * 1.2\n",
        "    print(f\"O preço {preco}R$ passará para {precon}R$ por voce ter comprado em 3x com cartão e ter recebido 20% de juros\")\n",
        "   else:\n",
        "    print(f\"Digite uma solicitação possível\")\n",
        "  else:\n",
        "    print(\"Digite dados corretos na condição!\")\n",
        "else:\n",
        "  print(\"Digite dados corretos!\")"
      ],
      "execution_count": null,
      "outputs": [
        {
          "output_type": "stream",
          "name": "stdout",
          "text": [
            "Digite o Preço: 10000\n",
            "Digite a qtd de parcelas de 1 a 3: (1 = a vista e 2 a 3 apenas no cartão)3\n",
            "Digite a condição de pagamento: (Ca = cartão, Ch = cheque, d = dinheiro)ca\n",
            "O preço 10000.0R$ passará para 12000.0R$ por voce ter comprado em 3x com cartão e ter recebido 20% de juros\n"
          ]
        }
      ]
    },
    {
      "cell_type": "markdown",
      "metadata": {
        "id": "hOfng9fpL_cx"
      },
      "source": [
        "### 2.6.13. Exercício 13: Faça um programa para jogar Jokenpô (clássico pedra, papel e tesoura) com você. Você deverá informar uma das opções, o programa deverá então sortear uma das três opções possíveis e mostrar quem ganhou na tela."
      ]
    },
    {
      "cell_type": "code",
      "metadata": {
        "id": "ZMcLHlVLMefE",
        "colab": {
          "base_uri": "https://localhost:8080/"
        },
        "outputId": "312fd381-64f3-4a23-e5c9-f4c508c99746"
      },
      "source": [
        "import random\n",
        "print(\"Vamos jogar Jokenpo!\")\n",
        "\n",
        "choice = input(\"Escolha Papel, Tesoura ou Pedra:\")\n",
        "pc = random.randint(1, 3)\n",
        "\n",
        "\n",
        "if  choice == \"Papel\" or choice == \"papel\" or choice == \"tesoura\" or choice == \"Tesoura\" or choice == \"Pedra\" or choice == \"pedra\":\n",
        "  if pc == 1: \n",
        "    if choice == \"papel\" or choice == \"Papel\":\n",
        "     print(f\"Voce empatou com o computador, tendo voce escolhido {choice} e estando pc em seu estado {pc} referente a papel\")\n",
        "    elif choice == \"tesoura\" or choice == \"Tesoura\":\n",
        "     print(f\"Voce ganhou do computador, tendo voce escolhido {choice} e estando pc em seu estado {pc} referente a papel\")\n",
        "    elif choice == \"pedra\" or choice == \"Pedra\":\n",
        "     print(f\"Voce perdeu pro computador, tendo voce escolhido {choice} e estando pc em seu estado {pc} referente a papel\")\n",
        "  elif pc == 2:\n",
        "   if choice == \"papel\" or choice == \"Papel\":\n",
        "    print(f\"Voce perdeu pro computador, tendo voce escolhido {choice} e estando pc em seu estado {pc} referente a tesoura\")\n",
        "   elif choice == \"tesoura\" or choice == \"Tesoura\":\n",
        "     print(f\"Voce empatou com o computador, tendo voce escolhido {choice} e estando pc em seu estado {pc} referente a tesoura\")\n",
        "   elif choice == \"pedra\" or choice == \"Pedra\":\n",
        "     print(f\"Voce ganhou do computador, tendo voce escolhido {choice} e estando pc em seu estado {pc} referente a tesoura\")\n",
        "  elif pc == 3:\n",
        "   if choice == \"papel\" or choice == \"Papel\":\n",
        "    print(f\"Voce ganhou do computador, tendo voce escolhido {choice} e estando pc em seu estado {pc} referente a pedra\")\n",
        "   elif choice == \"tesoura\" or choice == \"Tesoura\":\n",
        "     print(f\"Voce perdeu pro computador, tendo voce escolhido {choice} e estando pc em seu estado {pc} referente a pedra\")\n",
        "   elif choice == \"pedra\" or choice == \"Pedra\":\n",
        "     print(f\"Voce empatou com o computador, tendo voce escolhido {choice} e estando pc em seu estado {pc} referente a pedra\")\n",
        "  else:\n",
        "   print(\"Digite dados corretos pro jogo!\") \n",
        "\n",
        "else:\n",
        "    print(\"Digite dados corretos!\")\n",
        "\n"
      ],
      "execution_count": 2,
      "outputs": [
        {
          "output_type": "stream",
          "name": "stdout",
          "text": [
            "Vamos jogar Jokenpo!\n",
            "Escolha Papel, Tesoura ou Pedra:pedra\n",
            "Voce ganhou do computador, tendo voce escolhido pedra e estando pc em seu estado 2 referente a tesoura\n"
          ]
        }
      ]
    }
  ]
}